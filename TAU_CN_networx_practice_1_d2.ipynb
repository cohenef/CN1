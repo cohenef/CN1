{
  "nbformat": 4,
  "nbformat_minor": 0,
  "metadata": {
    "colab": {
      "name": "TAU_CN_networx_practice_1.ipynb",
      "provenance": [],
      "collapsed_sections": [],
      "include_colab_link": true
    },
    "kernelspec": {
      "name": "python3",
      "display_name": "Python 3"
    },
    "language_info": {
      "name": "python"
    }
  },
  "cells": [
    {
      "cell_type": "markdown",
      "metadata": {
        "id": "view-in-github",
        "colab_type": "text"
      },
      "source": [
        "<a href=\"https://colab.research.google.com/github/cohenef/CN1/blob/main/TAU_CN_networx_practice_1_d2.ipynb\" target=\"_parent\"><img src=\"https://colab.research.google.com/assets/colab-badge.svg\" alt=\"Open In Colab\"/></a>"
      ]
    },
    {
      "cell_type": "markdown",
      "source": [
        "# NetworkX practice 1"
      ],
      "metadata": {
        "id": "QsXjC-srgBmE"
      }
    },
    {
      "cell_type": "code",
      "execution_count": 1,
      "metadata": {
        "id": "oT_DlI8mf4zn"
      },
      "outputs": [],
      "source": [
        "import networkx as nx # the main libary we will use\n",
        "from networkx.algorithms import bipartite\n",
        "import numpy as np\n",
        "import pandas as pd\n",
        "import matplotlib.pyplot as plt\n",
        "from scipy.optimize import curve_fit\n",
        "%matplotlib inline"
      ]
    },
    {
      "cell_type": "code",
      "source": [
        "G = nx.Graph()\n",
        "G.add_node(1)\n",
        "G.add_node(2)\n",
        "G.add_node(3)\n",
        "G.add_node('B')\n",
        "G.add_node('Danny')\n",
        "G.add_edge(1,2)\n",
        "G.add_edge('B',3)\n",
        "G.add_edge('B','Danny')"
      ],
      "metadata": {
        "id": "bm4Nx70xm6Vz"
      },
      "execution_count": 2,
      "outputs": []
    },
    {
      "cell_type": "code",
      "source": [
        "G.number_of_nodes()"
      ],
      "metadata": {
        "id": "KjUU5TD8nfh1",
        "colab": {
          "base_uri": "https://localhost:8080/"
        },
        "outputId": "9f68dd40-09e1-464d-d9ed-c6a6d378c278"
      },
      "execution_count": 3,
      "outputs": [
        {
          "output_type": "execute_result",
          "data": {
            "text/plain": [
              "5"
            ]
          },
          "metadata": {},
          "execution_count": 3
        }
      ]
    },
    {
      "cell_type": "code",
      "source": [
        "G.number_of_edges()"
      ],
      "metadata": {
        "id": "MLjbHgnInkTt",
        "colab": {
          "base_uri": "https://localhost:8080/"
        },
        "outputId": "9c10010a-64c6-46cb-929e-f5ef40fcf89d"
      },
      "execution_count": 4,
      "outputs": [
        {
          "output_type": "execute_result",
          "data": {
            "text/plain": [
              "3"
            ]
          },
          "metadata": {},
          "execution_count": 4
        }
      ]
    },
    {
      "cell_type": "code",
      "source": [
        "G.edges()"
      ],
      "metadata": {
        "id": "ALOeOV0jnp3L",
        "colab": {
          "base_uri": "https://localhost:8080/"
        },
        "outputId": "f5ac7e59-fbb7-4207-dcd3-7a18314e2744"
      },
      "execution_count": 5,
      "outputs": [
        {
          "output_type": "execute_result",
          "data": {
            "text/plain": [
              "EdgeView([(1, 2), (3, 'B'), ('B', 'Danny')])"
            ]
          },
          "metadata": {},
          "execution_count": 5
        }
      ]
    },
    {
      "cell_type": "code",
      "source": [
        "A = nx.adjacency_matrix(G)\n",
        "print(A)"
      ],
      "metadata": {
        "id": "XcXJNcgTnt-T",
        "colab": {
          "base_uri": "https://localhost:8080/"
        },
        "outputId": "5ea51c25-8a4a-406d-a3c5-aecbf03776d6"
      },
      "execution_count": 6,
      "outputs": [
        {
          "output_type": "stream",
          "name": "stdout",
          "text": [
            "  (0, 1)\t1\n",
            "  (1, 0)\t1\n",
            "  (2, 3)\t1\n",
            "  (3, 2)\t1\n",
            "  (3, 4)\t1\n",
            "  (4, 3)\t1\n"
          ]
        }
      ]
    },
    {
      "cell_type": "code",
      "source": [
        "A = nx.to_numpy_matrix(G)\n",
        "plt.matshow(A)"
      ],
      "metadata": {
        "id": "H7K9RdSBn3pM",
        "colab": {
          "base_uri": "https://localhost:8080/",
          "height": 293
        },
        "outputId": "3ea316ec-9267-479a-eb15-ba5b1df144d3"
      },
      "execution_count": 7,
      "outputs": [
        {
          "output_type": "execute_result",
          "data": {
            "text/plain": [
              "<matplotlib.image.AxesImage at 0x7f96e7129190>"
            ]
          },
          "metadata": {},
          "execution_count": 7
        },
        {
          "output_type": "display_data",
          "data": {
            "text/plain": [
              "<Figure size 288x288 with 1 Axes>"
            ],
            "image/png": "[encoded data removed]"
          },
          "metadata": {
            "needs_background": "light"
          }
        }
      ]
    },
    {
      "cell_type": "code",
      "source": [
        "G.nodes()"
      ],
      "metadata": {
        "id": "BFeq4JhDoFj9",
        "colab": {
          "base_uri": "https://localhost:8080/"
        },
        "outputId": "15230ee1-5990-42b6-a642-11b117ea6c46"
      },
      "execution_count": 8,
      "outputs": [
        {
          "output_type": "execute_result",
          "data": {
            "text/plain": [
              "NodeView((1, 2, 3, 'B', 'Danny'))"
            ]
          },
          "metadata": {},
          "execution_count": 8
        }
      ]
    },
    {
      "cell_type": "code",
      "source": [
        "N = 100\n",
        "p = 0.1\n",
        "G = nx.gnp_random_graph(N,p)"
      ],
      "metadata": {
        "id": "u730CLLhoTPa"
      },
      "execution_count": 9,
      "outputs": []
    },
    {
      "cell_type": "code",
      "source": [
        "degree_hist = nx.degree_histogram(G)\n",
        "print(degree_hist)"
      ],
      "metadata": {
        "id": "hAvSBcebpChM",
        "colab": {
          "base_uri": "https://localhost:8080/"
        },
        "outputId": "8103aa9b-893f-4c26-b3be-61c3a7722e9e"
      },
      "execution_count": 10,
      "outputs": [
        {
          "output_type": "stream",
          "name": "stdout",
          "text": [
            "[0, 0, 0, 0, 2, 1, 10, 10, 7, 12, 13, 12, 11, 12, 3, 1, 0, 6]\n"
          ]
        }
      ]
    },
    {
      "cell_type": "code",
      "source": [
        "degree_prob = np.array(degree_hist)/G.number_of_nodes()\n",
        "plt.bar(np.arange(len(degree_hist)),degree_prob)"
      ],
      "metadata": {
        "id": "SM6BkCzjpgRS",
        "colab": {
          "base_uri": "https://localhost:8080/",
          "height": 283
        },
        "outputId": "0a52d330-58cb-4270-fa3d-ae82a57e495a"
      },
      "execution_count": 11,
      "outputs": [
        {
          "output_type": "execute_result",
          "data": {
            "text/plain": [
              "<BarContainer object of 18 artists>"
            ]
          },
          "metadata": {},
          "execution_count": 11
        },
        {
          "output_type": "display_data",
          "data": {
            "text/plain": [
              "<Figure size 432x288 with 1 Axes>"
            ],
            "image/png": "[encoded data removed]"
          },
          "metadata": {
            "needs_background": "light"
          }
        }
      ]
    },
    {
      "cell_type": "code",
      "source": [
        "print(nx.average_clustering(G))"
      ],
      "metadata": {
        "id": "r49GyDYlqAdM",
        "colab": {
          "base_uri": "https://localhost:8080/"
        },
        "outputId": "f4131884-b01c-41bf-aba0-304ae2827758"
      },
      "execution_count": 12,
      "outputs": [
        {
          "output_type": "stream",
          "name": "stdout",
          "text": [
            "0.09507529888412235\n"
          ]
        }
      ]
    },
    {
      "cell_type": "code",
      "source": [
        "!git clone https://github.com/cohenef/CN1"
      ],
      "metadata": {
        "colab": {
          "base_uri": "https://localhost:8080/"
        },
        "id": "ySFhvbDzcspl",
        "outputId": "34221802-a424-4c43-98de-28fadf4e372a"
      },
      "execution_count": 13,
      "outputs": [
        {
          "output_type": "stream",
          "name": "stdout",
          "text": [
            "fatal: destination path 'CN1' already exists and is not an empty directory.\n"
          ]
        }
      ]
    },
    {
      "cell_type": "code",
      "source": [
        "!git clone https://github.com/Omer80/DatasetsComplexNetworksCourse"
      ],
      "metadata": {
        "id": "Ug05Ka84qPXH",
        "colab": {
          "base_uri": "https://localhost:8080/"
        },
        "outputId": "da88d477-ef23-436d-e1da-03a67f902cc0"
      },
      "execution_count": 14,
      "outputs": [
        {
          "output_type": "stream",
          "name": "stdout",
          "text": [
            "fatal: destination path 'DatasetsComplexNetworksCourse' already exists and is not an empty directory.\n"
          ]
        }
      ]
    },
    {
      "cell_type": "code",
      "source": [
        "G = nx.read_adjlist(\"/content/CN1/opencell-protein-interactions_no_id.csv\",create_using=nx.Graph,nodetype=str)\n",
        "nx.draw(G,with_labels=False)"
      ],
      "metadata": {
        "id": "8mnGwjVZdU_0"
      },
      "execution_count": null,
      "outputs": []
    },
    {
      "cell_type": "code",
      "source": [
        "G = nx.read_adjlist(\"/content/DatasetsComplexNetworksCourse/graph_01.txt\",create_using=nx.Graph,nodetype=str)\n",
        "nx.draw(G,with_labels=True)"
      ],
      "metadata": {
        "id": "KjXbiTMAqrti",
        "colab": {
          "base_uri": "https://localhost:8080/",
          "height": 319
        },
        "outputId": "be538017-0a8b-4c43-89e8-34bc6e774186"
      },
      "execution_count": 15,
      "outputs": [
        {
          "output_type": "display_data",
          "data": {
            "text/plain": [
              "<Figure size 432x288 with 1 Axes>"
            ],
            "image/png": "[encoded data removed]"
          },
          "metadata": {}
        }
      ]
    },
    {
      "cell_type": "code",
      "source": [
        "N = 10000\n",
        "m = 1\n",
        "G = nx.barabasi_albert_graph(N,m)\n",
        "degree_hist = nx.degree_histogram(G)\n",
        "degree_prob = np.array(degree_hist)/G.number_of_nodes()\n",
        "plt.bar(np.arange(len(degree_hist)),degree_prob)"
      ],
      "metadata": {
        "id": "ChI8T5Pws7_a"
      },
      "execution_count": null,
      "outputs": []
    },
    {
      "cell_type": "code",
      "source": [
        "nx.draw(G)"
      ],
      "metadata": {
        "id": "b4_qM10OtV4t"
      },
      "execution_count": null,
      "outputs": []
    },
    {
      "cell_type": "code",
      "source": [
        "G = nx.read_weighted_edgelist(\"/content/DatasetsComplexNetworksCourse/eco-stmarks.edges\")\n",
        "nx.draw(G)"
      ],
      "metadata": {
        "id": "QDbQsVGWrgzq"
      },
      "execution_count": null,
      "outputs": []
    },
    {
      "cell_type": "code",
      "source": [
        "pos = nx.spring_layout(G)\n",
        "nx.draw_networkx_nodes(G,pos,node_size=20)\n",
        "nx.draw_networkx_edges(G,pos,alpha=0.1)"
      ],
      "metadata": {
        "id": "7rELTIZZtlRl"
      },
      "execution_count": null,
      "outputs": []
    }
  ]
}